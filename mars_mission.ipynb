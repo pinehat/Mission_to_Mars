{
 "cells": [
  {
   "cell_type": "code",
   "execution_count": 1,
   "metadata": {},
   "outputs": [],
   "source": [
    "# Import dependencies\n",
    "import pandas as pd\n",
    "import time\n",
    "\n",
    "from pprint import pprint\n",
    "from bs4 import BeautifulSoup\n",
    "from splinter import Browser\n",
    "from selenium import webdriver\n",
    "\n",
    "# https://splinter.readthedocs.io/en/latest/api/driver-and-element-api.html"
   ]
  },
  {
   "cell_type": "code",
   "execution_count": 2,
   "metadata": {},
   "outputs": [],
   "source": [
    "executable_path = {\"executable_path\": \"chromedriver.exe\"}\n",
    "browser = Browser(\"chrome\", **executable_path, headless=True)\n",
    "time.sleep(1)"
   ]
  },
  {
   "cell_type": "code",
   "execution_count": 3,
   "metadata": {},
   "outputs": [],
   "source": [
    "url = 'https://mars.nasa.gov/news/'\n",
    "browser.visit(url)\n",
    "time.sleep(3)"
   ]
  },
  {
   "cell_type": "code",
   "execution_count": 4,
   "metadata": {},
   "outputs": [],
   "source": [
    "mars_html = browser.html\n",
    "mars_soup = BeautifulSoup(mars_html, 'html.parser')\n",
    "#t_f = browser.is_element_present_by_css(\"ul.item_list li.slide\",wait_time=1)\n",
    "#print(t_f)\n",
    "time.sleep(3)"
   ]
  },
  {
   "cell_type": "code",
   "execution_count": 5,
   "metadata": {},
   "outputs": [
    {
     "name": "stdout",
     "output_type": "stream",
     "text": [
      "news_title = What's Mars Solar Conjunction, and Why Does It Matter?\n",
      "news_p = NASA spacecraft at Mars are going to be on their own for a few weeks when the Sun comes between Mars and Earth, interrupting communications.\n"
     ]
    }
   ],
   "source": [
    "# Extract the first news title and paragraph text\n",
    "\n",
    "try:\n",
    "    news_title = mars_soup.find('ul', class_=\"item_list\").find('li',class_=\"slide\"). \\\n",
    "        find('div',class_=\"content_title\").text\n",
    "    print(f\"news_title = {news_title}\") \n",
    "    \n",
    "    news_p = mars_soup.find('ul',class_=\"item_list\").find('li',class_=\"slide\"). \\\n",
    "        find('div',class_=\"article_teaser_body\").text\n",
    "    print(f\"news_p = {news_p}\")\n",
    "    \n",
    "except AttributeError as e:\n",
    "    print(e)"
   ]
  },
  {
   "cell_type": "code",
   "execution_count": 6,
   "metadata": {},
   "outputs": [],
   "source": [
    "url = 'https://www.jpl.nasa.gov/spaceimages/?search=&category=Mars'\n",
    "browser.visit(url)\n",
    "time.sleep(2)"
   ]
  },
  {
   "cell_type": "code",
   "execution_count": 7,
   "metadata": {},
   "outputs": [],
   "source": [
    "# Find and click the Full Image button\n",
    "full_image_button = browser.find_by_id('full_image')\n",
    "full_image_button.click()\n",
    "time.sleep(2)"
   ]
  },
  {
   "cell_type": "code",
   "execution_count": 8,
   "metadata": {},
   "outputs": [],
   "source": [
    "# Find and click More Info button\n",
    "more_info_button = browser.find_link_by_partial_text('more info')\n",
    "more_info_button.click()\n",
    "time.sleep(2)"
   ]
  },
  {
   "cell_type": "code",
   "execution_count": 9,
   "metadata": {},
   "outputs": [
    {
     "name": "stdout",
     "output_type": "stream",
     "text": [
      "full url: https://www.jpl.nasa.gov/spaceimages/images/largesize/PIA16605_hires.jpg\n"
     ]
    }
   ],
   "source": [
    "# Get featured_image_url\n",
    "mars_html = browser.html\n",
    "mars_images_soup = BeautifulSoup(mars_html, 'html.parser')\n",
    "\n",
    "try:    \n",
    "    url = mars_images_soup.find('figure', class_='lede').a['href']\n",
    "    #print(f\"featured_image_url: {featured_image_url}\") \n",
    "    \n",
    "except AttributeError as e:\n",
    "    print(e)\n",
    "    \n",
    "featured_image_url = \"https://www.jpl.nasa.gov\" + url\n",
    "print(f\"full url: {featured_image_url}\")    "
   ]
  },
  {
   "cell_type": "code",
   "execution_count": 10,
   "metadata": {},
   "outputs": [
    {
     "name": "stdout",
     "output_type": "stream",
     "text": [
      "tweet: InSight sol 261 (2019-08-21) low -102.4ºC (-152.4ºF) high -26.6ºC (-15.8ºF)\n",
      "winds from the SSE at 4.9 m/s (11.0 mph) gusting to 16.0 m/s (35.8 mph)\n",
      "pressure at 7.70 hPapic.twitter.com/MhPPOHJg3m\n"
     ]
    }
   ],
   "source": [
    "# Get latest Mars Weather Report from Twitter\n",
    "url = 'https://twitter.com/marswxreport?lang=en)'\n",
    "browser.visit(url)\n",
    "time.sleep(2)\n",
    "mars_weather_html = browser.html\n",
    "mars_weather_soup = BeautifulSoup(mars_weather_html, 'html.parser')\n",
    "time.sleep(1)\n",
    "\n",
    "# Scrape the latest tweet\n",
    "mars_tweet = mars_weather_soup.find('p', class_='TweetTextSize').text\n",
    "print(f\"tweet: {mars_tweet}\")"
   ]
  },
  {
   "cell_type": "code",
   "execution_count": 11,
   "metadata": {
    "scrolled": true
   },
   "outputs": [
    {
     "data": {
      "text/html": [
       "<div>\n",
       "<style scoped>\n",
       "    .dataframe tbody tr th:only-of-type {\n",
       "        vertical-align: middle;\n",
       "    }\n",
       "\n",
       "    .dataframe tbody tr th {\n",
       "        vertical-align: top;\n",
       "    }\n",
       "\n",
       "    .dataframe thead th {\n",
       "        text-align: right;\n",
       "    }\n",
       "</style>\n",
       "<table border=\"1\" class=\"dataframe\">\n",
       "  <thead>\n",
       "    <tr style=\"text-align: right;\">\n",
       "      <th></th>\n",
       "      <th>Mars Statistic</th>\n",
       "      <th>Value</th>\n",
       "    </tr>\n",
       "  </thead>\n",
       "  <tbody>\n",
       "    <tr>\n",
       "      <th>0</th>\n",
       "      <td>Equatorial Diameter:</td>\n",
       "      <td>6,792 km</td>\n",
       "    </tr>\n",
       "    <tr>\n",
       "      <th>1</th>\n",
       "      <td>Polar Diameter:</td>\n",
       "      <td>6,752 km</td>\n",
       "    </tr>\n",
       "    <tr>\n",
       "      <th>2</th>\n",
       "      <td>Mass:</td>\n",
       "      <td>6.39 × 10^23 kg (0.11 Earths)</td>\n",
       "    </tr>\n",
       "    <tr>\n",
       "      <th>3</th>\n",
       "      <td>Moons:</td>\n",
       "      <td>2 (Phobos &amp; Deimos)</td>\n",
       "    </tr>\n",
       "    <tr>\n",
       "      <th>4</th>\n",
       "      <td>Orbit Distance:</td>\n",
       "      <td>227,943,824 km (1.38 AU)</td>\n",
       "    </tr>\n",
       "    <tr>\n",
       "      <th>5</th>\n",
       "      <td>Orbit Period:</td>\n",
       "      <td>687 days (1.9 years)</td>\n",
       "    </tr>\n",
       "    <tr>\n",
       "      <th>6</th>\n",
       "      <td>Surface Temperature:</td>\n",
       "      <td>-87 to -5 °C</td>\n",
       "    </tr>\n",
       "    <tr>\n",
       "      <th>7</th>\n",
       "      <td>First Record:</td>\n",
       "      <td>2nd millennium BC</td>\n",
       "    </tr>\n",
       "    <tr>\n",
       "      <th>8</th>\n",
       "      <td>Recorded By:</td>\n",
       "      <td>Egyptian astronomers</td>\n",
       "    </tr>\n",
       "  </tbody>\n",
       "</table>\n",
       "</div>"
      ],
      "text/plain": [
       "         Mars Statistic                          Value\n",
       "0  Equatorial Diameter:                       6,792 km\n",
       "1       Polar Diameter:                       6,752 km\n",
       "2                 Mass:  6.39 × 10^23 kg (0.11 Earths)\n",
       "3                Moons:            2 (Phobos & Deimos)\n",
       "4       Orbit Distance:       227,943,824 km (1.38 AU)\n",
       "5         Orbit Period:           687 days (1.9 years)\n",
       "6  Surface Temperature:                   -87 to -5 °C\n",
       "7         First Record:              2nd millennium BC\n",
       "8          Recorded By:           Egyptian astronomers"
      ]
     },
     "execution_count": 11,
     "metadata": {},
     "output_type": "execute_result"
    }
   ],
   "source": [
    "# Scrape Space-Facts.com for Mars statistics\n",
    "url = 'https://space-facts.com/mars/'\n",
    "earth_mars_facts = pd.read_html(url)\n",
    "mars_facts_df = earth_mars_facts[1]\n",
    "mars_facts_df.columns = ['Mars Statistic','Value']\n",
    "mars_facts_df"
   ]
  },
  {
   "cell_type": "code",
   "execution_count": 12,
   "metadata": {},
   "outputs": [],
   "source": [
    "mars_facts_df.to_html('./templates/mars_facts.html', index=False )"
   ]
  },
  {
   "cell_type": "code",
   "execution_count": 13,
   "metadata": {
    "scrolled": true
   },
   "outputs": [],
   "source": [
    "# Scrape USGS Astrogeology site for Mars hemisphere images\n",
    "url = 'https://astrogeology.usgs.gov/search/results?q=hemisphere+enhanced&k1=target&v1=Mars'\n",
    "browser.visit(url)\n",
    "html = browser.html\n",
    "usgs_soup = BeautifulSoup(html, 'html.parser')\n",
    "\n",
    "# Get list of hemisphere blocks\n",
    "hemisphere_blocks = usgs_soup.find('div', class_='collapsible results'). \\\n",
    "    find_all('div',class_='item')"
   ]
  },
  {
   "cell_type": "code",
   "execution_count": 14,
   "metadata": {
    "scrolled": true
   },
   "outputs": [
    {
     "name": "stdout",
     "output_type": "stream",
     "text": [
      "Cerberus Hemisphere Enhanced\n",
      "Cerberus Hemisphere\n",
      "Schiaparelli Hemisphere Enhanced\n",
      "Schiaparelli Hemisphere\n",
      "Syrtis Major Hemisphere Enhanced\n",
      "Syrtis Major Hemisphere\n",
      "Valles Marineris Hemisphere Enhanced\n",
      "Valles Marineris Hemisphere\n"
     ]
    }
   ],
   "source": [
    "# Initialize list\n",
    "hemisphere_images = []\n",
    "\n",
    "# Loop through hemisphere results and append to list\n",
    "for hemisphere in hemisphere_blocks:\n",
    "    \n",
    "    # Get title and cut off 'enhanced' from end\n",
    "    title = hemisphere.find('div', class_='description'). \\\n",
    "        find('a', class_='itemLink product-item').h3.text\n",
    "    print(title)\n",
    "    if title.endswith(' Enhanced'):\n",
    "        title = title[:-9]\n",
    "    print(title)\n",
    "  \n",
    "    # Construct each hemisphere image URL\n",
    "    url = 'https://astrogeology.usgs.gov'\n",
    "    full_url = url + hemisphere.find('a',class_='itemLink product-item')['href']    \n",
    "    browser.visit(full_url)\n",
    "    time.sleep(3)\n",
    "    \n",
    "    usgs_html = browser.html\n",
    "    image_soup = BeautifulSoup(usgs_html,'html.parser')\n",
    "    image_url = image_soup.find('div',class_='downloads').a['href']\n",
    "    \n",
    "    hemisphere_dict = {\n",
    "        \"title\" : title,\n",
    "        \"image_url\" : image_url\n",
    "    }\n",
    "\n",
    "    # Construct list of hemisphere dictionaries  \n",
    "    hemisphere_images.append(hemisphere_dict)"
   ]
  },
  {
   "cell_type": "code",
   "execution_count": 15,
   "metadata": {
    "scrolled": true
   },
   "outputs": [
    {
     "data": {
      "text/plain": [
       "[{'title': 'Cerberus Hemisphere',\n",
       "  'image_url': 'http://astropedia.astrogeology.usgs.gov/download/Mars/Viking/cerberus_enhanced.tif/full.jpg'},\n",
       " {'title': 'Schiaparelli Hemisphere',\n",
       "  'image_url': 'http://astropedia.astrogeology.usgs.gov/download/Mars/Viking/schiaparelli_enhanced.tif/full.jpg'},\n",
       " {'title': 'Syrtis Major Hemisphere',\n",
       "  'image_url': 'http://astropedia.astrogeology.usgs.gov/download/Mars/Viking/syrtis_major_enhanced.tif/full.jpg'},\n",
       " {'title': 'Valles Marineris Hemisphere',\n",
       "  'image_url': 'http://astropedia.astrogeology.usgs.gov/download/Mars/Viking/valles_marineris_enhanced.tif/full.jpg'}]"
      ]
     },
     "execution_count": 15,
     "metadata": {},
     "output_type": "execute_result"
    }
   ],
   "source": [
    "hemisphere_images"
   ]
  },
  {
   "cell_type": "code",
   "execution_count": null,
   "metadata": {},
   "outputs": [],
   "source": []
  }
 ],
 "metadata": {
  "kernelspec": {
   "display_name": "Python [conda env:PythonData] *",
   "language": "python",
   "name": "conda-env-PythonData-py"
  },
  "language_info": {
   "codemirror_mode": {
    "name": "ipython",
    "version": 3
   },
   "file_extension": ".py",
   "mimetype": "text/x-python",
   "name": "python",
   "nbconvert_exporter": "python",
   "pygments_lexer": "ipython3",
   "version": "3.6.8"
  }
 },
 "nbformat": 4,
 "nbformat_minor": 2
}
